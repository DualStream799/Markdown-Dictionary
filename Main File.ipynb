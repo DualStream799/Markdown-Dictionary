{
 "cells": [
  {
   "cell_type": "markdown",
   "metadata": {},
   "source": [
    "### Autor: @DualStream799"
   ]
  },
  {
   "cell_type": "markdown",
   "metadata": {},
   "source": [
    "### Index:"
   ]
  },
  {
   "cell_type": "markdown",
   "metadata": {},
   "source": [
    "* Greek Alphabet\n",
    "* Standard Brackets\n",
    "    * Brackets\n",
    "    * Square Brackets\n",
    "* Arrows and Harpoons\n",
    "    * Arrows\n",
    "    * Harpoons\n",
    "* Numerical Sets\n",
    "    * Symbols\n",
    "    * Operators\n",
    "* Mathematical Operators\n",
    "    * Basic\n",
    "    * Equation & Inequation\n",
    "    * Roots\n",
    "* Vectors"
   ]
  },
  {
   "cell_type": "markdown",
   "metadata": {},
   "source": [
    "___"
   ]
  },
  {
   "cell_type": "markdown",
   "metadata": {},
   "source": [
    "### Greek Alphabet:\n",
    "\n",
    "\n",
    "| Name   | Code(Capital) | Symbol(Capital) |  Code(Tiny)  |  Symbol(Tiny)  |\n",
    "|------|:-------------:|:---------------:|:------------:|:--------------:|\n",
    "|Alpha   |      `A`      |       $A$       |    `\\alpha`  |    $\\alpha$   |\n",
    "|Beta    |      `B`      |       $B$       |    `\\beta`   |     $\\beta$   |\n",
    "|Gamma   |   `\\Gamma`    |     $\\Gamma$    |    `\\gamma`  |    $\\gamma$   |\n",
    "|Delta   |   `\\Delta`    |      $\\Delta$    |    `\\delta`  |    $\\delta$   |\n",
    "|Epsilon |      `E`      |       $E$       | `\\epsilon` or `\\varepsilon`|$\\epsilon$ or $\\varepsilon$ |\n",
    "|Zeta    |      `Z`      |       $Z$       |     `\\zeta`  |     $\\zeta$   |\n",
    "|Eta     |      `H`      |       $H$       |     `\\eta`   |      $\\eta$   |\n",
    "|Teta    |  `\\Theta`     |    $\\Theta$     |    `\\theta` or `\\vartheta`  |  $\\theta$ or $\\vartheta$  |\n",
    "|Iota    |      `I`      |       $I$       |    `\\iota`   |    $\\iota$    |\n",
    "|Kappa   |      `K`      |       $K$       |    `\\kappa`  |    $\\kappa$   |\n",
    "|Lambda  | `\\Lambda`     |   $\\Lambda$     |   `\\lambda`  |    $\\lambda$  |\n",
    "|Mu      |      `M`      |       $M$       |      `\\mu`   |     $\\mu$     |\n",
    "|Nu      |      `N`      |       $N$       |      `\\nu`   |     $\\nu$     |\n",
    "|Xi      |      `X`      |       $X$       |    `\\xi`     |      $\\xi$    |\n",
    "|Omikron |      `O`      |       $O$       |       `o`    |       $o$     |\n",
    "|Pi      |    `\\Pi`      |     $\\Pi$       |   `\\pi`      |      $\\pi$    |\n",
    "|Rho     |      `P`      |       $P$       |`\\rho` or `\\varrho`| $\\rho$ or $\\varrho$|\n",
    "|Sigma   |   `\\Sigma`    |    $\\Sigma$     |   `\\sigma`   |   $\\sigma$    |\n",
    "|Tau     |      `T`      |       $T$       |     `\\tau`   |    $\\tau$     |\n",
    "|Upsilon |  `\\Upsilon`   |   $\\Upsilon$    |  `\\upsilon`  |  $\\upsilon$   |\n",
    "|Phi     |  `\\Phi`       |    $\\Phi$       |`\\phi` or `\\varphi`|$\\phi$ or $\\varphi$ |\n",
    "|Chi     |      `X`      |       $X$       |     `\\chi`   |    $\\chi$     |\n",
    "|Psi     |      `\\Psi`   |    $\\Psi$       |     `\\psi`   |    $\\psi$     |\n",
    "|Omega   |  `\\Omega`     |   $\\Omega$      |   `\\omega`   |  $\\omega$     |\n"
   ]
  },
  {
   "cell_type": "markdown",
   "metadata": {},
   "source": [
    "___"
   ]
  },
  {
   "cell_type": "markdown",
   "metadata": {},
   "source": [
    "### Standard Brackets\n",
    "\n",
    "* **Brackets:**\n",
    "\n",
    "|      Code        |    Symbol       |      Code          |    Symbol          |\n",
    "|------------------|----------------:|--------------------|-------------------:|\n",
    "|`(`               |$($              |`)`                 |$)$                 |\n",
    "|`\\big(`           |$\\big($          |`\\big)`             |$\\big)$             |\n",
    "|`\\Big(`           |$\\Big($          |`\\Big)`             |$\\Big)$             |\n",
    "|`\\bigg(`          |$\\bigg($         |`\\bigg)`            |$\\bigg)$            |\n",
    "|`\\Bigg(`          |$\\Bigg($         |`\\Bigg)`            |$\\Bigg)$            |\n",
    "\n",
    "\n",
    "* **Square Brackets:**\n",
    "\n",
    "|      Code        |    Symbol       |      Code          |    Symbol          |\n",
    "|------------------|----------------:|--------------------|-------------------:|\n",
    "|`[`               |$[$              |`]`                 |$]$                 |\n",
    "|`\\big[`           |$\\big[$          |`\\big]`             |$\\big]$             |\n",
    "|`\\Big[`           |$\\Big[$          |`\\Big]`             |$\\Big]$             |\n",
    "|`\\bigg[`          |$\\bigg[$         |`\\bigg]`            |$\\bigg]$            |\n",
    "|`\\Bigg[`          |$\\Bigg[$         |`\\Bigg]`            |$\\Bigg]$            |\n",
    "\n",
    "\n",
    "* **Curly Brackets:**\n",
    "\n",
    "|      Code        |    Symbol       |      Code          |    Symbol          |\n",
    "|------------------|----------------:|--------------------|-------------------:|\n",
    "|`\\{`              |$\\{$             |`}`                 |$\\}$                |\n",
    "|`\\big\\{`          |$\\big\\{$         |`\\big}`             |$\\big\\}$            |\n",
    "|`\\Big\\{`          |$\\Big\\{$         |`\\Big}`             |$\\Big\\}$            |\n",
    "|`\\bigg\\{`         |$\\bigg\\{$        |`\\bigg}`            |$\\bigg\\}$           |\n",
    "|`\\Bigg\\{`         |$\\Bigg\\{$        |`\\Bigg}`            |$\\Bigg\\}$           |"
   ]
  },
  {
   "cell_type": "markdown",
   "metadata": {},
   "source": [
    "___"
   ]
  },
  {
   "cell_type": "markdown",
   "metadata": {},
   "source": [
    "### Arrows and Harpoons\n",
    "\n",
    "* **Arrows:**\n",
    "\n",
    "|      Code        |    Symbol       |      Code          |    Symbol          |\n",
    "|------------------|----------------:|--------------------|-------------------:|\n",
    "|`\\leftarrow`      |$\\leftarrow$     |`\\Leftarrow`        |$\\Leftarrow$        |\n",
    "|`\\rightarrow`     |$\\rightarrow$    |`\\Rightarrow`       |$\\Rightarrow$       |\n",
    "|`\\uparrow`        |$\\uparrow$       |`\\Uparrow`          |$\\Uparrow$          |\n",
    "|`\\downarrow`      |$\\downarrow$     |`\\Downarrow`        |$\\Downarrow$        |\n",
    "|`\\leftrightarrow` |$\\leftrightarrow$|`\\Leftrightarrow`   |$\\Leftrightarrow$   |\n",
    "|`\\updownarrow`    |$\\updownarrow$   |`\\Updownarrow`      |$\\Updownarrow$      |\n",
    "|`\\nearrow`        |$\\nearrow$       |`\\nwarrow`          |$\\nwarrow$          |\n",
    "|`\\searrow`        |$\\searrow$       |`\\swarrow`          |$\\swarrow$          |\n",
    "|`\\mapsto`         |$\\mapsto$        |`\\longmapsto`       |$\\longmapsto$       |\n",
    "\n",
    "\n",
    "* **Harpoons:**\n",
    "\n",
    "\n",
    "|      Code          |       Symbol       |      Code          |    Symbol          |\n",
    "|--------------------|-------------------:|--------------------|-------------------:|\n",
    "|`\\leftrightharpoons`|$\\leftrightharpoons$|`\\rightleftharpoons`|$\\rightleftharpoons$|\n",
    "|`\\leftharpoonup`    |$\\leftharpoonup$    |`\\rightharpoonup`   |$\\rightharpoonup$   |\n",
    "|`\\leftharpoondown`  |$\\leftharpoondown$  |`\\rightharpoondown` |$\\rightharpoondown$ |"
   ]
  },
  {
   "cell_type": "markdown",
   "metadata": {},
   "source": [
    "___"
   ]
  },
  {
   "cell_type": "markdown",
   "metadata": {},
   "source": [
    "### \n",
    "\n",
    "* **Numerical Sets:**\n",
    "\n",
    "|Name      |       Code     |        Symbol        |\n",
    "|----------|----------------|----------------------|\n",
    "|Complex   |`\\mathbb{C}`    |$\\mathbb{C}$          |\n",
    "|Real      |`\\mathbb{R}`    |$\\mathbb{R}$          |\n",
    "|Rational  |`\\mathbb{Q}`    |$\\mathbb{Q}$          |\n",
    "|Irrational|`\\mathbb{I}`    |$\\mathbb{I}$          |\n",
    "|Integer   |`\\mathbb{Z}`    |$\\mathbb{Z}$          |\n",
    "|Natural   |`\\mathbb{N}`    |$\\mathbb{N}$          |\n",
    "|Whole     |`\\mathbb{W}`    |$\\mathbb{W}$          |\n",
    "|Prime     |`\\mathbb{P}`    |$\\mathbb{P}$          |\n",
    "\n",
    "* **Operators:**\n",
    "\n"
   ]
  },
  {
   "cell_type": "markdown",
   "metadata": {},
   "source": [
    "### Mathematical Operators\n",
    "\n",
    "* **Basic:**\n",
    "\n",
    "|   Name         | Code     | Symbol  |\n",
    "|----------------|----------|---------|\n",
    "| Multiplication |`\\times`  |$\\times$ |\n",
    "|     Division   |`\\div`    |$\\div$   |\n",
    "|     Sum        |`+`       |$+$      |\n",
    "| Subtraction    |`-`       |$-$      |\n",
    "\n",
    "* **Equation & Inequation:**\n",
    "\n",
    "|    Name                  |     Code     |   Symbol   |\n",
    "|--------------------------|--------------|------------|\n",
    "|Equal to                  |`=`           |$=$         |\n",
    "|Not equal to              |`\\neq`        |$\\neq$      |\n",
    "|Greater than              |`>`           |$>$         |\n",
    "|Less than                 |`<`           |$<$         |\n",
    "|Less than or equal to     |`\\leq`        |$\\leq$      |\n",
    "|Greater than or equal to  |`\\geq`         |$\\geq$      |\n",
    "\n",
    "* **Roots:**\n",
    "\n",
    "|    Name                  |     Code     |   Symbol        |\n",
    "|--------------------------|--------------|-----------------|\n",
    "|Square root               |`\\sqrt{k}`    |$\\sqrt{k}$       |\n",
    "|Nth root                  |`\\sqrt[n]{k}` |$\\sqrt[n]{k}$    |\n",
    "\n"
   ]
  },
  {
   "cell_type": "markdown",
   "metadata": {},
   "source": [
    "|Name     |   Code   |   Symbol   |\n",
    "|---------|----------|------------|\n",
    "|Module   |   `\\mid` |   $\\mid$   |"
   ]
  },
  {
   "cell_type": "markdown",
   "metadata": {},
   "source": [
    "### Vectors:\n",
    "\n",
    "|    Name                  |     Code     |   Symbol        |\n",
    "|--------------------------|--------------|-----------------|\n",
    "|Vector                    |`\\vec{x}`     |$\\vec{x}$        |\n",
    "|Vectorial Axis            |`\\hat{x}`     |$\\hat{x}$        |\n",
    "|                          |`\\tilde{x}`   |$\\tilde{x}$      |\n",
    "|                          |`\\dot{x}`     |$\\dot{x}$        |"
   ]
  },
  {
   "cell_type": "markdown",
   "metadata": {},
   "source": [
    "|  Name    |  Code    |   Symbol |\n",
    "|----------|----------|----------|\n",
    "| Symbol|`\\partial`|$\\partial$|\n",
    "| Usage|`\\frac{\\partial f}{\\partial x}`| $\\frac{\\partial f}{\\partial x}$ |\n"
   ]
  },
  {
   "cell_type": "code",
   "execution_count": null,
   "metadata": {},
   "outputs": [],
   "source": []
  }
 ],
 "metadata": {
  "kernelspec": {
   "display_name": "Python 3",
   "language": "python",
   "name": "python3"
  },
  "language_info": {
   "codemirror_mode": {
    "name": "ipython",
    "version": 2
   },
   "file_extension": ".py",
   "mimetype": "text/x-python",
   "name": "python",
   "nbconvert_exporter": "python",
   "pygments_lexer": "ipython2",
   "version": "2.7.15+"
  }
 },
 "nbformat": 4,
 "nbformat_minor": 2
}
